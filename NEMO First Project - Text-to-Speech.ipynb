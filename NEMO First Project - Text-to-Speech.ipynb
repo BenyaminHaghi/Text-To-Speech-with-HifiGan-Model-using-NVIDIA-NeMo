{
 "cells": [
  {
   "cell_type": "code",
   "execution_count": null,
   "metadata": {},
   "outputs": [],
   "source": [
    "#author: Benyamin Haghi\n",
    "# Import necessary modules for FastPitch Model\n",
    "from nemo.collections.tts.models import FastPitchModel\n",
    "\n",
    "# Load the FastPitch model pretrained on NVIDIA dataset\n",
    "# FastPitch is a text-to-speech model known for its speed and quality\n",
    "spec_generator = FastPitchModel.from_pretrained(\"nvidia/tts_en_fastpitch\")\n",
    "\n",
    "# Import necessary modules for HifiGan Model\n",
    "from nemo.collections.tts.models import HifiGanModel\n",
    "\n",
    "# Load the HifiGan model pretrained on NVIDIA dataset\n",
    "# HifiGan is used as a vocoder to generate high-fidelity audio\n",
    "vocoder = HifiGanModel.from_pretrained(\"nvidia/tts_hifigan\")\n",
    "\n",
    "# Generate audio from text\n",
    "import soundfile as sf\n",
    "\n",
    "# Parse the text input for the speech synthesis\n",
    "parsed = spec_generator.parse(\"Hi PyData. this is FastPitch with Hifi-Gan TTS from NeMo.\")\n",
    "\n",
    "# Generate spectrogram from parsed text using FastPitch\n",
    "spectrogram = spec_generator.generate_spectrogram(tokens=parsed)\n",
    "\n",
    "# Convert the generated spectrogram to audio using the HifiGan vocoder\n",
    "audio = vocoder.convert_spectrogram_to_audio(spec=spectrogram)\n",
    "\n",
    "# Save the synthesized audio to a file\n",
    "# The audio is saved in WAV format at a sample rate of 22050 Hz\n",
    "sf.write(\"speech.wav\", audio.to(\"cpu\").detach().numpy(), 22050)\n"
   ]
  }
 ],
 "metadata": {
  "kernelspec": {
   "display_name": "Python 3",
   "language": "python",
   "name": "python3"
  },
  "language_info": {
   "codemirror_mode": {
    "name": "ipython",
    "version": 3
   },
   "file_extension": ".py",
   "mimetype": "text/x-python",
   "name": "python",
   "nbconvert_exporter": "python",
   "pygments_lexer": "ipython3",
   "version": "3.7.6"
  }
 },
 "nbformat": 4,
 "nbformat_minor": 4
}
